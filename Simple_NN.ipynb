{
  "nbformat": 4,
  "nbformat_minor": 0,
  "metadata": {
    "colab": {
      "provenance": []
    },
    "kernelspec": {
      "name": "python3",
      "display_name": "Python 3"
    },
    "language_info": {
      "name": "python"
    }
  },
  "cells": [
    {
      "cell_type": "code",
      "source": [
        "import numpy as np\n",
        "from sklearn.datasets import load_iris\n",
        "from sklearn.model_selection import train_test_split\n",
        "from sklearn.preprocessing import StandardScaler\n",
        "from sklearn.preprocessing import OneHotEncoder"
      ],
      "metadata": {
        "id": "XLaq2SS7jtU4"
      },
      "execution_count": 20,
      "outputs": []
    },
    {
      "cell_type": "code",
      "source": [
        "# Load and preprocess the Iris dataset\n",
        "iris = load_iris()\n",
        "X = iris.data\n",
        "y = iris.target"
      ],
      "metadata": {
        "id": "TWeN0vkKjqSQ"
      },
      "execution_count": 22,
      "outputs": []
    },
    {
      "cell_type": "code",
      "source": [
        "# One-hot encode the target variable\n",
        "encoder = OneHotEncoder(sparse=False)\n",
        "y = encoder.fit_transform(y.reshape(-1, 1))\n",
        "\n",
        "# Standardize the feature\n",
        "scaler = StandardScaler()\n",
        "X = scaler.fit_transform(X)\n",
        "\n",
        "# Split the dataset into training and testing sets\n",
        "X_train, X_test, y_train, y_test = train_test_split(X, y, test_size=0.2, random_state=42)"
      ],
      "metadata": {
        "colab": {
          "base_uri": "https://localhost:8080/"
        },
        "id": "FwAjsRq0jq5p",
        "outputId": "bf9836c9-db34-4f85-e056-fbca0fb59b21"
      },
      "execution_count": 23,
      "outputs": [
        {
          "output_type": "stream",
          "name": "stderr",
          "text": [
            "/usr/local/lib/python3.10/dist-packages/sklearn/preprocessing/_encoders.py:868: FutureWarning: `sparse` was renamed to `sparse_output` in version 1.2 and will be removed in 1.4. `sparse_output` is ignored unless you leave `sparse` to its default value.\n",
            "  warnings.warn(\n"
          ]
        }
      ]
    },
    {
      "cell_type": "code",
      "source": [
        "class SimpleNN:\n",
        "    def __init__(self, input_dim, hidden_dim, out_dim):\n",
        "        self.weights_1 = np.random.randn(input_dim, hidden_dim)\n",
        "        self.bias_1 = np.zeros((1, hidden_dim))\n",
        "        self.weights_2 = np.random.randn(hidden_dim, out_dim)\n",
        "        self.bias_2 = np.zeros((1, out_dim))\n",
        "\n",
        "    def sigmoid(self, z):\n",
        "        return 1 / (1 + np.exp(-z))\n",
        "\n",
        "    def sigmoid_derivative(self, a):\n",
        "        return a * (1 - a)\n",
        "\n",
        "    def forward(self, X):\n",
        "        self.z1 = np.dot(X, self.weights_1) + self.bias_1\n",
        "        self.a1 = self.sigmoid(self.z1)\n",
        "        self.z2 = np.dot(self.a1, self.weights_2) + self.bias_2\n",
        "        self.a2 = self.sigmoid(self.z2)\n",
        "        return self.a2\n",
        "\n",
        "    def backward(self, X, y, output):\n",
        "        self.error = y - output\n",
        "        delta_output = self.error * self.sigmoid_derivative(output)\n",
        "        self.d_weights2 = np.dot(self.a1.T, delta_output)\n",
        "        self.d_bias2 = np.sum(delta_output, axis=0)\n",
        "        delta_hidden = np.dot(delta_output, self.weights_2.T) * self.sigmoid_derivative(self.a1)\n",
        "        self.d_weights1 = np.dot(X.T, delta_hidden)\n",
        "        self.d_bias1 = np.sum(delta_hidden, axis=0)\n",
        "\n",
        "    def update_weights(self, learning_rate):\n",
        "        self.weights_1 += self.d_weights1 * learning_rate\n",
        "        self.bias_1 += self.d_bias1 * learning_rate\n",
        "        self.weights_2 += self.d_weights2 * learning_rate\n",
        "        self.bias_2 += self.d_bias2 * learning_rate\n",
        "\n",
        "    def train(self, X, y, learning_rate, epochs):\n",
        "        for _ in range(epochs):\n",
        "            output = self.forward(X)\n",
        "            self.backward(X, y, output)\n",
        "            self.update_weights(learning_rate)\n",
        "\n",
        "    def predict(self, X):\n",
        "        output = self.forward(X)\n",
        "        return (output > 0.5).astype(int)"
      ],
      "metadata": {
        "id": "c5Zkmrl2j3ba"
      },
      "execution_count": 24,
      "outputs": []
    },
    {
      "cell_type": "code",
      "source": [
        "# Initialize the neural network with the correct number of output classes\n",
        "nn = SimpleNN(input_dim=4, hidden_dim=5, out_dim=3)\n",
        "nn.train(X_train, y_train, learning_rate=0.01, epochs=5_000)"
      ],
      "metadata": {
        "id": "T4yxFdvpkGqS"
      },
      "execution_count": 37,
      "outputs": []
    },
    {
      "cell_type": "code",
      "source": [
        "# Evaluate the model on the test set\n",
        "predictions = nn.predict(X_test)\n",
        "predicted_classes = np.argmax(predictions, axis=1)\n",
        "true_classes = np.argmax(y_test, axis=1)"
      ],
      "metadata": {
        "id": "FJA3CxlXkHll"
      },
      "execution_count": 38,
      "outputs": []
    },
    {
      "cell_type": "code",
      "source": [
        "accuracy = np.mean(predicted_classes == true_classes)\n",
        "print(f\"Accuracy: {accuracy * 100:.2f}%\")"
      ],
      "metadata": {
        "colab": {
          "base_uri": "https://localhost:8080/"
        },
        "id": "Hx38P_vekIlZ",
        "outputId": "d305e469-ce6e-4ea7-e739-14f3fe0295e6"
      },
      "execution_count": 36,
      "outputs": [
        {
          "output_type": "stream",
          "name": "stdout",
          "text": [
            "Accuracy: 100.00%\n"
          ]
        }
      ]
    },
    {
      "cell_type": "code",
      "source": [],
      "metadata": {
        "id": "KuVIQOAckKR4"
      },
      "execution_count": null,
      "outputs": []
    }
  ]
}